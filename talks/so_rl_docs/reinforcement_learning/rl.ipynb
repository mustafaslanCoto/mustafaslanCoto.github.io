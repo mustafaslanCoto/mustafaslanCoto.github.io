{
 "cells": [
  {
   "cell_type": "code",
   "execution_count": 1,
   "id": "ae9c0830",
   "metadata": {},
   "outputs": [],
   "source": [
    "import numpy as np\n",
    "import pandas as pd\n",
    "import matplotlib.pyplot as plt\n",
    "import seaborn as sns"
   ]
  },
  {
   "cell_type": "markdown",
   "id": "57e0bedd",
   "metadata": {},
   "source": [
    "$$\n",
    "p(s'\\mid s, a) \\doteq \\Pr \\{ S_t = s' \\mid S_{t-1} = s, A_{t-1} = a \\}, \\text{for all } s',s \\in \\mathcal{S} \\text{ and } a \\in \\mathcal{A(s)}  \n",
    "$$\n",
    "\n",
    "The transition function $p$ is a function that gives the probability of moving from state $s$ to state $s'$ given action $a$. It is defined as the conditional probability of the next state given the current state and action taken. The notation $\\mathcal{A(s)}$ indicates that the action set may depend on the current state $s$."
   ]
  },
  {
   "cell_type": "markdown",
   "id": "f5c6ce42",
   "metadata": {},
   "source": [
    "### Bellman Equations\n",
    "\n",
    "The Bellman equations express the relationship between the value of a state and the values of its successor states. They are used to derive optimal policies and value functions in Markov Decision Processes (MDPs) and reinforcement learning."
   ]
  }
 ],
 "metadata": {
  "kernelspec": {
   "display_name": "Python 3",
   "language": "python",
   "name": "python3"
  },
  "language_info": {
   "codemirror_mode": {
    "name": "ipython",
    "version": 3
   },
   "file_extension": ".py",
   "mimetype": "text/x-python",
   "name": "python",
   "nbconvert_exporter": "python",
   "pygments_lexer": "ipython3",
   "version": "3.13.3"
  }
 },
 "nbformat": 4,
 "nbformat_minor": 5
}
