{
 "cells": [
  {
   "cell_type": "raw",
   "id": "360337d9-dbfc-4ae3-beb4-45f2d3df32d5",
   "metadata": {
    "vscode": {
     "languageId": "raw"
    }
   },
   "source": [
    "---\n",
    "title: \"Conditional Probability and Conditional Expectation\"\n",
    "author:\n",
    "  - name: \"Mustafa Aslan\"\n",
    "    title: \"PhD Student\"\n",
    "    affiliation: \"Cardiff University, UK\"\n",
    "    email: \"aslanm@cardiff.ac.uk\"\n",
    "description: \"A quick notebook on Conditional Probability and Conditional Expectation in statistics and machine learning.\"\n",
    "date: 2025-04-23\n",
    "categories: [talks]\n",
    "format: html\n",
    "---"
   ]
  },
  {
   "cell_type": "markdown",
   "id": "ba09ee95",
   "metadata": {},
   "source": [
    "## The Discrete Case\n",
    "For any two events $E$ and $F$, the conditional probability of $E$ given $F$ is defined, as long as $P(F) > 0$, by\n",
    "\n",
    "$$\n",
    "P(E|F) = \\frac{P(E  F)}{P(F)}.\n",
    "$$\n",
    "\n",
    "Hence, if $X$ and $Y$ are discrete random variables, then it is natural to define the *conditional probability mass function* of $X$ given that $Y = y$, by\n",
    "\n",
    "$$\n",
    "\\begin{align*}\n",
    "p_{X|Y}(x|y) &= P(X = x | Y = y) \\\\\n",
    "&= \\frac{P(X = x, Y = y)}{P(Y = y)} \\\\\n",
    "&= \\frac{p(x,y)}{p_Y(y)}.\n",
    "\\end{align*}\n",
    "$$\n",
    "\n",
    "Similarly, the conditional probability distribution function of $X$ given that $Y=y$ is defined, for all $y$ such that $P(Y = y) > 0$, by\n",
    "\n",
    "$$\n",
    "\\begin{align*}\n",
    "F_{X|Y}(x|y) &= P(X \\leq x | Y = y) \\\\\n",
    "&= \\sum_{a \\leq x} P_{X | Y}(a | y) \\\\\n",
    "\\end{align*}\n",
    "$$\n",
    "\n",
    "The conditional expectation of $X$ given that $Y = y$ is defined by\n",
    "$$\n",
    "E[X | Y = y] = \\sum_{x} x P(X = x | Y = y) = \\sum_{x} x p_{X|Y}(x|y).\n",
    "$$\n",
    "\n",
    "## The Continuous Case\n",
    "If $X$ and $Y$ have a joint probability density function $f(x, y)$, then the conditional probability density function of $X$, given that $Y = y$, is defined for all values of $y$ such that $f_Y(y) > 0$, by\n",
    "\n",
    "$$\n",
    "\\begin{align*}\n",
    "f_{X|Y}(x|y) &= \\frac{f(x,y)}{f_Y(y)} \\\\\n",
    "&= \\frac{f(x,y)}{\\int_{-\\infty}^{\\infty} f(x,y) dx}.\n",
    "\\end{align*}\n",
    "$$\n",
    "The conditional distribution function of $X$ given that $Y = y$ is defined by\n",
    "$$\n",
    "\\begin{align*}\n",
    "F_{X|Y}(x|y) &= P(X \\leq x | Y = y) \\\\\n",
    "&= \\int_{-\\infty}^{x} f_{X|Y}(a|y) da \\\\\n",
    "&= \\int_{-\\infty}^{x} \\frac{f(a,y)}{f_Y(y)} da \\\\\n",
    "&= \\frac{1}{f_Y(y)} \\int_{-\\infty}^{x} f(a,y) da.\n",
    "\\end{align*}\n",
    "$$\n",
    "\n",
    "The conditional expectation of $X$ given that $Y = y$ is defined or all values of $y$ such that $f_Y(y) > 0$, by\n",
    "$$\n",
    "\\begin{align*}\n",
    "E[X | Y = y] &= \\int_{-\\infty}^{\\infty} x f_{X|Y}(x|y) dx \\\\\n",
    "&= \\int_{-\\infty}^{\\infty} x \\frac{f(x,y)}{f_Y(y)} dx \\\\\n",
    "&= \\frac{1}{f_Y(y)} \\int_{-\\infty}^{\\infty} x f(x,y) dx.\n",
    "\\end{align*}\n",
    "$$"
   ]
  },
  {
   "cell_type": "markdown",
   "id": "e8fdd839",
   "metadata": {},
   "source": [
    "## Computing Expectations by Conditioning\n"
   ]
  }
 ],
 "metadata": {
  "kernelspec": {
   "display_name": "Python 3",
   "language": "python",
   "name": "python3"
  },
  "language_info": {
   "codemirror_mode": {
    "name": "ipython",
    "version": 3
   },
   "file_extension": ".py",
   "mimetype": "text/x-python",
   "name": "python",
   "nbconvert_exporter": "python",
   "pygments_lexer": "ipython3",
   "version": "3.13.3"
  }
 },
 "nbformat": 4,
 "nbformat_minor": 5
}
