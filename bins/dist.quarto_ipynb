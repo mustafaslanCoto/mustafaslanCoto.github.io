{
  "cells": [
    {
      "cell_type": "markdown",
      "metadata": {},
      "source": [
        "---\n",
        "title: \"my dist\"\n",
        "author: \"Mustafa\"\n",
        "format: html\n",
        "---\n",
        "\n",
        "asdasdasda\n",
        "\n",
        "$$\n",
        "f_x = \\int\n",
        "$$"
      ],
      "id": "4cdc2b91"
    },
    {
      "cell_type": "code",
      "metadata": {},
      "source": [
        "import pandas as pd\n",
        "import numpy as np"
      ],
      "id": "f2a6a3a2",
      "execution_count": null,
      "outputs": []
    }
  ],
  "metadata": {
    "kernelspec": {
      "name": "quarto-python",
      "language": "python",
      "display_name": "Python (quarto-python)",
      "path": "/Users/aslanm/Library/Jupyter/kernels/quarto-python"
    }
  },
  "nbformat": 4,
  "nbformat_minor": 5
}