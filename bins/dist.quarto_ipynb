{
  "cells": [
    {
      "cell_type": "markdown",
      "metadata": {},
      "source": [
        "---\n",
        "title: \"my dist\"\n",
        "author: \"Mustafa\"\n",
        "format: html\n",
        "---\n",
        "\n",
        "asdasdasda\n",
        "\n",
        "$$\n",
        "f_x = \\int\n",
        "$$"
      ],
      "id": "90152b13"
    },
    {
      "cell_type": "code",
      "metadata": {},
      "source": [
        "import pandas as pd\n",
        "import numpy as np"
      ],
      "id": "afe6d9af",
      "execution_count": null,
      "outputs": []
    }
  ],
  "metadata": {
    "kernelspec": {
      "name": "quarto-python",
      "language": "python",
      "display_name": "Python (quarto-python)",
      "path": "/Users/aslanm/Library/Jupyter/kernels/quarto-python"
    }
  },
  "nbformat": 4,
  "nbformat_minor": 5
}