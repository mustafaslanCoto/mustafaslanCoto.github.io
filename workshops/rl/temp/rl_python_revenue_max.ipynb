{
 "cells": [
  {
   "cell_type": "markdown",
   "id": "c9487658",
   "metadata": {},
   "source": [
    "## A backward dynamic programming algorithm."
   ]
  },
  {
   "cell_type": "markdown",
   "id": "dac5de98",
   "metadata": {},
   "source": [
    "Scenario:\n",
    "\n",
    "An NGO sells a single handcrafted backpack produced by under-represented artisan groups. Each month, over a 120-month horizon, they reach one of four audience-size tiers—40, 60, 80, or 100 customers—and choose a campaign label (marketing message) highlighting a different artisan community. Each label yields a unit profit per customer as follows:\n",
    "\n",
    "|       Label      | Artisan Group Highlighted        | Profit/Customer (£) |\n",
    "| :--------------: | :------------------------------- | :-----------------: |\n",
    "|   **EcoNomad**   | Women-led cooperatives           |         15         |\n",
    "|  **TrailBlazer** | Disability-led artisan studios   |         9         |\n",
    "| **ClassicCarry** | Minority-owned craft collectives |         12         |\n",
    "\n",
    "Their goal is to maximize total expected profit over the 120 months by selecting the best label each month."
   ]
  },
  {
   "cell_type": "code",
   "execution_count": 12,
   "id": "3d663ee8",
   "metadata": {},
   "outputs": [],
   "source": [
    "R = [15, 9, 12]"
   ]
  },
  {
   "cell_type": "code",
   "execution_count": 9,
   "id": "814037f1",
   "metadata": {},
   "outputs": [],
   "source": [
    "import numpy as np\n",
    "\n",
    "def create__trans_prob(num_states, num_actions):\n",
    "    \"\"\"\n",
    "    Create a transition probability matrix for a reinforcement learning problem.\n",
    "    \n",
    "    Parameters:\n",
    "    - num_states: Number of states in the environment.\n",
    "    - num_actions: Number of actions available in the environment.\n",
    "    \n",
    "    Returns:\n",
    "    - P: Transition probability matrix of shape (num_states, num_actions, num_states) using Dirichlet.\n",
    "    \"\"\"\n",
    "    alpha = np.ones(num_states)  # Dirichlet distribution parameter\n",
    "    P = np.zeros((num_states, num_actions, num_states))\n",
    "    for s in range(num_states):\n",
    "        for a in range(num_actions):\n",
    "            P[s, a, :] = np.random.dirichlet(alpha)  # transition probabilities for each state-action pair\n",
    "    return P"
   ]
  },
  {
   "cell_type": "code",
   "execution_count": 60,
   "id": "7317fbbc",
   "metadata": {},
   "outputs": [],
   "source": [
    "# initialize value function values\n",
    "\n",
    "import numpy as np\n",
    "\n",
    "def create__trans_prob(num_states, num_actions):\n",
    "    \"\"\"\n",
    "    Create a transition probability matrix for a reinforcement learning problem.\n",
    "    \n",
    "    Parameters:\n",
    "    - num_states: Number of states in the environment.\n",
    "    - num_actions: Number of actions available in the environment.\n",
    "    \n",
    "    Returns:\n",
    "    - P: Transition probability matrix of shape (num_states, num_actions, num_states) using Dirichlet.\n",
    "    \"\"\"\n",
    "    alpha = np.ones(num_states)  # Dirichlet distribution parameter\n",
    "    P = np.zeros((num_states, num_actions, num_states))\n",
    "    for s in range(num_states):\n",
    "        for a in range(num_actions):\n",
    "            P[s, a, :] = np.random.dirichlet(alpha)  # transition probabilities for each state-action pair\n",
    "    return P\n",
    "\n",
    "\n",
    "def backward_dynamic_programming(T, states, actions, R, P):\n",
    "    \"\"\"\n",
    "    Perform backward dynamic programming to compute the value function and action values.\n",
    "    Parameters:\n",
    "    - T: Number of time steps.\n",
    "    - states: List of states in the environment.\n",
    "    - actions: Actions available in the environment.\n",
    "    - P: Transition probability matrix of shape (num_states, num_actions, num_states).\n",
    "    \n",
    "    Returns:\n",
    "    - V: Value function for each state at each time step.\n",
    "    - A: Best action for each state at each time step.\n",
    "    \"\"\"\n",
    "\n",
    "    num_states = len(states)  # number of states\n",
    "    num_actions = len(actions)  # number of actions\n",
    "\n",
    "    V = np.zeros((T+1, num_states)) # initial value function for 80 time steps and 4 states\n",
    "    A = np.zeros((T, num_states)) # action values for 80 time steps and 4 states\n",
    "\n",
    "    for t in reversed(range(T)):\n",
    "        for i in range(num_states): # loop over states\n",
    "            # initialize best value and action\n",
    "            best_val = -np.inf  \n",
    "            best_action = None \n",
    "            # loop over actions to find the best action for the current state\n",
    "            for a in range(num_actions): # loop over actions\n",
    "                q_ia = 0 # initialize action value\n",
    "                # calculate the action value q(s, a) using the Bellman equation\n",
    "                for j in range(num_states): # loop over next states\n",
    "                    # r = np.random.normal(50, 40) # sample a reward from a normal distribution\n",
    "                    r = R[a]*states[i]  # reward based on the action and state\n",
    "                    q_ia = + r + 0.1*P[i][a][j]*V[t+1, j]  # reward + discounted value of next state\n",
    "                if q_ia > best_val: # if the action value is better than the best value found so far\n",
    "                    best_val = q_ia # update best value\n",
    "                    best_action = a # update best action\n",
    "            V[t][i] = best_val # store the best value for the current state at time t\n",
    "            A[t][i] = best_action # store the best action for the current state at time t\n",
    "    return V, A            "
   ]
  },
  {
   "cell_type": "code",
   "execution_count": 61,
   "id": "3669870f",
   "metadata": {},
   "outputs": [],
   "source": [
    "\n",
    "T = 120\n",
    "states = list(range(40, 61))  # example states\n",
    "actions = [0, 1, 2]  # example actions\n",
    "num_states = len(states)  # number of states\n",
    "num_actions = len(actions)  # number of actions\n",
    "R = [15, 9, 12]  # rewards for each action\n",
    "P = create__trans_prob(num_states, num_actions) # create transition probability matrix\n",
    "Vs, As = backward_dynamic_programming(T, states, actions, R, P)  # perform backward dynamic programming"
   ]
  },
  {
   "cell_type": "code",
   "execution_count": 63,
   "id": "0bcded59",
   "metadata": {},
   "outputs": [
    {
     "data": {
      "text/plain": [
       "(121, 21)"
      ]
     },
     "execution_count": 63,
     "metadata": {},
     "output_type": "execute_result"
    }
   ],
   "source": [
    "Vs.shape"
   ]
  },
  {
   "cell_type": "code",
   "execution_count": 49,
   "id": "c6032406",
   "metadata": {},
   "outputs": [
    {
     "data": {
      "text/plain": [
       "<Axes: >"
      ]
     },
     "execution_count": 49,
     "metadata": {},
     "output_type": "execute_result"
    },
    {
     "data": {
      "image/png": "[encoded data removed]",
      "text/plain": [
       "<Figure size 640x480 with 1 Axes>"
      ]
     },
     "metadata": {},
     "output_type": "display_data"
    }
   ],
   "source": [
    "import pandas as pd\n",
    "pd.DataFrame(Vs, columns=states, index=range(T+1)).iloc[:, 0:3].plot()"
   ]
  },
  {
   "cell_type": "markdown",
   "id": "011370aa",
   "metadata": {},
   "source": [
    "Consider a network of two products: product 1 (bags) has 10 units in inventory, while product 2 (raincoats) has 20 units in inventory. Customers may buy product 1, product 2, or both products. The price is £15 for product 1, £20 for product 2, and £30 if a customer wants to buy both products 1 and 2. The products can be sold over a time horizon of T = 90 periods. The arrival probabilities in each time period are constant over time: λ₁ = 0.2, λ₂ = 0.15, and λ₃ = 0.1. With a probability of λ₀ = 0.55, there will be no arrival in a given period. The objective of the NGO manager is to decide, whenever a shopping request arrives, whether to accept the demand such that the total expected profit is maximized."
   ]
  },
  {
   "cell_type": "code",
   "execution_count": null,
   "id": "08b65727",
   "metadata": {},
   "outputs": [],
   "source": [
    "import numpy as np\n",
    "\n",
    "def backward_dp_two_products(T, Imax, Jmax, lambdas, prices):\n",
    "    \"\"\"\n",
    "    Backward dynamic programming for 2‐product booking control.\n",
    "    \n",
    "    Args:\n",
    "        T       : int, horizon (e.g. 90)\n",
    "        Imax    : int, max bags inventory (e.g. 10)\n",
    "        Jmax    : int, max raincoats inventory (e.g. 20)\n",
    "        lambdas : list of arrival probabilities [λ0, λ1, λ2, ...]\n",
    "        prices   : dict, prices for each product\n",
    "                 {1: price_bag, 2: price_raincoat, 3: price_both}\n",
    "        \n",
    "    Returns:\n",
    "        V      : np.array shape (T+1, Imax+1, Jmax+1)\n",
    "                 value function\n",
    "        policy : np.array shape (T, Imax+1, Jmax+1, 4)\n",
    "                 policy[t,i,j,k] = 0 (reject) or 1 (accept) for arrival k\n",
    "    \"\"\"\n",
    "    V = np.zeros((T+1, Imax+1, Jmax+1))\n",
    "    policy = np.zeros((T, Imax+1, Jmax+1, 3), dtype=int)\n",
    "    \n",
    "    for t in range(T-1, -1, -1):\n",
    "        for i in range(Imax+1):\n",
    "            for j in range(Jmax+1):\n",
    "                # calculate the value function for each state (i, j) at time t following the Bellman equation\n",
    "                reward = 0\n",
    "                for p in range(2):\n",
    "                    if i == 0 | j == 0 # No capacity to accept this booking\n",
    "                        reject = V[t+1, i, j]\n",
    "                        policy[t, i, j, p] = 0  # Reject\n",
    "                    else:\n",
    "\n",
    "\n",
    "                          \n",
    "\n",
    "    \n",
    "    \n",
    "    return V, policy\n",
    "\n",
    "# --- Usage ---\n",
    "T = 90\n",
    "Imax, Jmax = 10, 20\n",
    "lambdas = [0.55, 0.2, 0.15, 0.1]\n",
    "fares = {1:15, 2:20, 3:30}\n",
    "\n",
    "V, policy = backward_dp_two_products(T, Imax, Jmax, lambdas, fares)\n"
   ]
  },
  {
   "cell_type": "code",
   "execution_count": 73,
   "id": "19e6476a",
   "metadata": {},
   "outputs": [
    {
     "data": {
      "text/plain": [
       "[0, 1]"
      ]
     },
     "execution_count": 73,
     "metadata": {},
     "output_type": "execute_result"
    }
   ],
   "source": [
    "list(range(1, 2))"
   ]
  }
 ],
 "metadata": {
  "kernelspec": {
   "display_name": "Python 3",
   "language": "python",
   "name": "python3"
  },
  "language_info": {
   "codemirror_mode": {
    "name": "ipython",
    "version": 3
   },
   "file_extension": ".py",
   "mimetype": "text/x-python",
   "name": "python",
   "nbconvert_exporter": "python",
   "pygments_lexer": "ipython3",
   "version": "3.13.3"
  }
 },
 "nbformat": 4,
 "nbformat_minor": 5
}
