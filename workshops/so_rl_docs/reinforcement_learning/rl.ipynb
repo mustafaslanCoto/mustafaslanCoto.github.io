{
 "cells": [
  {
   "cell_type": "code",
   "execution_count": 1,
   "id": "ae9c0830",
   "metadata": {},
   "outputs": [],
   "source": [
    "import numpy as np\n",
    "import pandas as pd\n",
    "import matplotlib.pyplot as plt\n",
    "import seaborn as sns"
   ]
  },
  {
   "cell_type": "markdown",
   "id": "57e0bedd",
   "metadata": {},
   "source": [
    "$$\n",
    "p(s'\\mid s, a) \\doteq \\Pr \\{ S_t = s' \\mid S_{t-1} = s, A_{t-1} = a \\}, \\text{for all } s',s \\in \\mathcal{S} \\text{ and } a \\in \\mathcal{A(s)}  \n",
    "$$\n",
    "\n",
    "The transition function $p$ is a function that gives the probability of moving from state $s$ to state $s'$ given action $a$. It is defined as the conditional probability of the next state given the current state and action taken. The notation $\\mathcal{A(s)}$ indicates that the action set may depend on the current state $s$."
   ]
  },
  {
   "cell_type": "markdown",
   "id": "f5c6ce42",
   "metadata": {},
   "source": [
    "### Bellman Equations\n",
    "\n",
    "The Bellman equations express the relationship between the value of a state and the values of its successor states. They are used to derive optimal policies and value functions in Markov Decision Processes (MDPs) and reinforcement learning."
   ]
  },
  {
   "cell_type": "markdown",
   "id": "2ad40436",
   "metadata": {},
   "source": [
    "**Input:**  \n",
    "$\\pi$, the policy to be evaluated  \n",
    "Algorithm parameter: a small threshold $\\theta > 0$ determining accuracy of estimation  \n",
    "Initialize $V(s)$ arbitrarily, for $s \\in \\mathcal{S}$, and $V(\\text{terminal}) = 0$  \n",
    "\n",
    "**Loop:**  \n",
    "$\\Delta \\leftarrow 0$  \n",
    "Loop for each $s \\in \\mathcal{S}$:  \n",
    "&emsp;$v \\leftarrow V(s)$  \n",
    "&emsp;$V(s) \\leftarrow \\sum_a \\pi(a|s) \\sum_{s', r} p(s', r | s, a) [r + \\gamma V(s')]$  \n",
    "&emsp;$\\Delta \\leftarrow \\max(\\Delta, |v - V(s)|)$  \n",
    "\n",
    "**until** $\\Delta < \\theta$"
   ]
  }
 ],
 "metadata": {
  "kernelspec": {
   "display_name": "Python 3",
   "language": "python",
   "name": "python3"
  },
  "language_info": {
   "codemirror_mode": {
    "name": "ipython",
    "version": 3
   },
   "file_extension": ".py",
   "mimetype": "text/x-python",
   "name": "python",
   "nbconvert_exporter": "python",
   "pygments_lexer": "ipython3",
   "version": "3.13.3"
  }
 },
 "nbformat": 4,
 "nbformat_minor": 5
}
